{
 "cells": [
  {
   "cell_type": "code",
   "execution_count": null,
   "metadata": {
    "collapsed": false
   },
   "outputs": [],
   "source": [
    "!pip install xgboost"
   ]
  },
  {
   "cell_type": "code",
   "execution_count": null,
   "metadata": {
    "colab": {},
    "colab_type": "code",
    "collapsed": false,
    "id": "tnCcTf3PPcWH"
   },
   "outputs": [],
   "source": [
    "import xgboost as xgb\n",
    "from sklearn.model_selection import train_test_split\n",
    "from sklearn.decomposition import PCA\n",
    "from sklearn.cluster import MiniBatchKMeans\n",
    "from sklearn.feature_selection import RFE\n",
    "\n",
    "import warnings\n",
    "import numpy as np\n",
    "import pandas as pd\n",
    "import time\n",
    "from xgboost import XGBRegressor, plot_importance\n"
   ]
  },
  {
   "cell_type": "code",
   "execution_count": null,
   "metadata": {
    "colab": {
     "base_uri": "https://localhost:8080/",
     "height": 309
    },
    "colab_type": "code",
    "collapsed": false,
    "executionInfo": {
     "elapsed": 27897,
     "status": "ok",
     "timestamp": 1573466206778,
     "user": {
      "displayName": "Muhammad Amirul Afiq Ja'afar",
      "photoUrl": "",
      "userId": "16737852303473829429"
     },
     "user_tz": -480
    },
    "id": "8dZ3sisiPcWR",
    "outputId": "5b876fdf-85e1-42c8-e2c7-007e4accf1f1"
   },
   "outputs": [],
   "source": [
    "train_df = pd.read_csv(\"../datasets/modified_train_v3.csv\")\n",
    "test_df = pd.read_csv(\"../datasets/modified_test_v3.csv\")\n",
    "ids = test_df['TRIP_ID']\n",
    "train_df.head()\n"
   ]
  },
  {
   "cell_type": "code",
   "execution_count": null,
   "metadata": {
    "colab": {
     "base_uri": "https://localhost:8080/",
     "height": 224
    },
    "colab_type": "code",
    "collapsed": false,
    "executionInfo": {
     "elapsed": 27260,
     "status": "ok",
     "timestamp": 1573466209074,
     "user": {
      "displayName": "Muhammad Amirul Afiq Ja'afar",
      "photoUrl": "",
      "userId": "16737852303473829429"
     },
     "user_tz": -480
    },
    "id": "ChIczHCvmoVY",
    "outputId": "43763af3-52cf-4aa6-9dcd-348f457bc83c"
   },
   "outputs": [],
   "source": [
    "train_df['DURATION'] = train_df['DURATION'] / 15\n",
    "train_cl = train_df.drop(columns=['TRIP_ID','TIMESTAMP','DATE', 'END_TIME',  'DURATION', 'ORIGIN_CALL',\t'ORIGIN_STAND'])\n",
    "test_cl= test_df.drop(columns=[ 'TRIP_ID','TIMESTAMP','DATE', 'END_TIME', 'ORIGIN_CALL',\t'ORIGIN_STAND'])\n",
    "train_cl.head()"
   ]
  },
  {
   "cell_type": "code",
   "execution_count": null,
   "metadata": {
    "colab": {
     "base_uri": "https://localhost:8080/",
     "height": 224
    },
    "colab_type": "code",
    "collapsed": false,
    "executionInfo": {
     "elapsed": 26151,
     "status": "ok",
     "timestamp": 1573466209075,
     "user": {
      "displayName": "Muhammad Amirul Afiq Ja'afar",
      "photoUrl": "",
      "userId": "16737852303473829429"
     },
     "user_tz": -480
    },
    "id": "wCTbMkeCPcWe",
    "outputId": "1288a774-6d68-4b8c-fd58-01cf6558e985"
   },
   "outputs": [],
   "source": [
    "# values = {'ORIGIN_CALL': -1, 'ORIGIN_STAND': -1}\n",
    "# train_cl = train_cl.fillna(value=values)\n",
    "# test_cl = test_cl.fillna(value=values)\n",
    "test_cl.head()"
   ]
  },
  {
   "cell_type": "code",
   "execution_count": null,
   "metadata": {
    "colab": {},
    "colab_type": "code",
    "collapsed": true,
    "id": "QjEfvkeoPcWj"
   },
   "outputs": [],
   "source": [
    "train = train_cl\n"
   ]
  },
  {
   "cell_type": "code",
   "execution_count": null,
   "metadata": {
    "colab": {},
    "colab_type": "code",
    "collapsed": true,
    "id": "J_c_yISiPcWm"
   },
   "outputs": [],
   "source": [
    "test = test_cl\n"
   ]
  },
  {
   "cell_type": "code",
   "execution_count": null,
   "metadata": {
    "colab": {},
    "colab_type": "code",
    "collapsed": true,
    "id": "rLxKqkXuPcWq"
   },
   "outputs": [],
   "source": [
    "feature_names = list(train.columns)"
   ]
  },
  {
   "cell_type": "code",
   "execution_count": null,
   "metadata": {
    "colab": {},
    "colab_type": "code",
    "collapsed": true,
    "id": "ig-43qIqPcWt"
   },
   "outputs": [],
   "source": [
    "y= np.log(train_df['DURATION']) + 1"
   ]
  },
  {
   "cell_type": "code",
   "execution_count": null,
   "metadata": {
    "colab": {
     "base_uri": "https://localhost:8080/",
     "height": 51
    },
    "colab_type": "code",
    "collapsed": false,
    "executionInfo": {
     "elapsed": 7242,
     "status": "ok",
     "timestamp": 1573472318029,
     "user": {
      "displayName": "Muhammad Amirul Afiq Ja'afar",
      "photoUrl": "",
      "userId": "16737852303473829429"
     },
     "user_tz": -480
    },
    "id": "hTILt3XnmPxd",
    "outputId": "83783b71-7524-460f-dae3-b8dda4e518f9"
   },
   "outputs": [],
   "source": [
    "Xtr, Xv, ytr, yv = train_test_split(train[feature_names].values, y, test_size=0.2, random_state=1987)\n",
    "dtrain = xgb.DMatrix(Xtr, label=ytr)\n",
    "dvalid = xgb.DMatrix(Xv, label=yv)\n",
    "dtest = xgb.DMatrix(test[feature_names].values)\n",
    "watchlist = [(dtrain, 'train'), (dvalid, 'valid')]\n",
    "\n",
    "#best\n",
    "xgb_pars = {'min_child_weight': 10, 'eta': 0.15, 'colsample_bytree': 0.5, 'max_depth': 15, 'subsample': 0.9, 'lambda': 2.0, 'nthread': -1, 'booster': 'gbtree', 'eval_metric': 'rmse', 'silent': 1, 'objective': 'reg:linear'}\n",
    "\n",
    "\n"
   ]
  },
  {
   "cell_type": "code",
   "execution_count": null,
   "metadata": {
    "colab": {
     "base_uri": "https://localhost:8080/",
     "height": 238
    },
    "colab_type": "code",
    "collapsed": false,
    "executionInfo": {
     "elapsed": 414409,
     "status": "ok",
     "timestamp": 1573472735214,
     "user": {
      "displayName": "Muhammad Amirul Afiq Ja'afar",
      "photoUrl": "",
      "userId": "16737852303473829429"
     },
     "user_tz": -480
    },
    "id": "OGTafFO9nBs6",
    "outputId": "a6ec2676-6a00-46ca-9b6b-f4c7364188e4"
   },
   "outputs": [],
   "source": [
    "model = xgb.train(xgb_pars, dtrain, 10, watchlist, early_stopping_rounds=10,\n",
    "                  maximize=False, verbose_eval=1)"
   ]
  },
  {
   "cell_type": "code",
   "execution_count": null,
   "metadata": {
    "colab": {
     "base_uri": "https://localhost:8080/",
     "height": 34
    },
    "colab_type": "code",
    "collapsed": false,
    "executionInfo": {
     "elapsed": 1198,
     "status": "ok",
     "timestamp": 1573472736428,
     "user": {
      "displayName": "Muhammad Amirul Afiq Ja'afar",
      "photoUrl": "",
      "userId": "16737852303473829429"
     },
     "user_tz": -480
    },
    "id": "xHUfhx7OKGg2",
    "outputId": "4f7b5f30-105d-4e57-8e20-66205420b9d9"
   },
   "outputs": [],
   "source": [
    "logytest = model.predict(dtest)\n",
    "ytest = (np.exp(logytest) -1 )\n",
    "print('Test shape OK.') if test.shape[0] == ytest.shape[0] else print('Oops')\n",
    "result= pd.DataFrame({\"TRIP_ID\": test_df[\"TRIP_ID\"], \"TRAVEL_TIME\": ytest*15})\n",
    "result.to_csv(\"../datasets/20tree_param_10epoch_xgboost_regression.csv\", index=False)"
   ]
  },
  {
   "cell_type": "markdown",
   "metadata": {
    "colab_type": "text",
    "id": "8BnB2jM_BuAj"
   },
   "source": [
    "The following section was used to find the best parameters for training."
   ]
  },
  {
   "cell_type": "code",
   "execution_count": null,
   "metadata": {
    "colab": {
     "base_uri": "https://localhost:8080/",
     "height": 1000
    },
    "colab_type": "code",
    "collapsed": false,
    "id": "uUTqNc4Kseql",
    "outputId": "7677b400-a619-4a43-d0c0-037a294fad61"
   },
   "outputs": [],
   "source": [
    "FOREVER_COMPUTING_FLAG = True\n",
    "xgb_pars = []\n",
    "for MCW in [10, 20, 50, 75, 100]:\n",
    "    for ETA in [0.05, 0.1, 0.15]:\n",
    "        for CS in [0.3, 0.4, 0.5]:\n",
    "            for MD in [6, 8, 10, 12, 15]:\n",
    "                for SS in [0.5, 0.6, 0.7, 0.8, 0.9]:\n",
    "                    for LAMBDA in [0.5, 1., 1.5,  2., 3.]:\n",
    "                        xgb_pars.append({'min_child_weight': MCW, 'eta': ETA, \n",
    "                                         'colsample_bytree': CS, 'max_depth': MD,\n",
    "                                         'subsample': SS, 'lambda': LAMBDA, \n",
    "                                         'nthread': -1, 'booster' : 'gbtree', 'eval_metric': 'rmse',\n",
    "                                         'silent': 1, 'objective': 'reg:linear'})\n",
    "# count= 0\n",
    "while FOREVER_COMPUTING_FLAG:\n",
    "    xgb_par = np.random.choice(xgb_pars, 1)[0]\n",
    "    print(xgb_par)\n",
    "    model = xgb.train(xgb_par, dtrain, 10, watchlist, early_stopping_rounds=50,\n",
    "                      maximize=False, verbose_eval=10)\n",
    "    # nametouse = \"/content/drive/My Drive/CE4032/dataset/\" + str(count) + \".csv\"\n",
    "    print('Modeling RMSLE %.5f' % model.best_score)\n",
    "    # logytest = model.predict(dtest)\n",
    "    # ytest = (np.exp(logytest) -1 ) * 15\n",
    "    # print('Test shape OK.') if test.shape[0] == ytest.shape[0] else print('Oops')\n",
    "    # result= pd.DataFrame({\"TRIP_ID\": test_df[\"TRIP_ID\"], \"TRAVEL_TIME\": ytest})\n",
    "    # result.to_csv(str(nametouse), index=False)\n",
    "    # count +=1\n"
   ]
  },
  {
   "cell_type": "markdown",
   "metadata": {
    "colab_type": "text",
    "id": "iwLeWNsoiiUt"
   },
   "source": [
    "[9]\ttrain-rmse:0.934293\tvalid-rmse:0.935502\n",
    "{'min_child_weight': 50, 'eta': 0.15, 'colsample_bytree': 0.5, 'max_depth': 10, 'subsample': 0.8, 'lambda': 1.5, 'nthread': -1, 'booster': 'gbtree', 'eval_metric': 'rmse', 'silent': 1, 'objective': 'reg:linear'}\n"
   ]
  },
  {
   "cell_type": "markdown",
   "metadata": {
    "colab_type": "text",
    "id": "Xwf9-fyiStm7"
   },
   "source": [
    "{'min_child_weight': 10, 'eta': 0.15, 'colsample_bytree': 0.5, 'max_depth': 12, 'subsample': 0.9, 'lambda': 0.5, 'nthread': -1, 'booster': 'gbtree', 'eval_metric': 'rmse', 'silent': 1, 'objective': 'reg:linear'}\n",
    "train-rmse:0.933942 Modeling RMSLE 0.93526\n"
   ]
  }
 ],
 "metadata": {
  "colab": {
   "collapsed_sections": [],
   "machine_shape": "hm",
   "name": "Final XGBoost.ipynb",
   "provenance": [
    {
     "file_id": "18AkY-94_ln7h4aw4q7UBfaOKqHnaIu-T",
     "timestamp": 1573111915448
    }
   ]
  },
  "kernelspec": {
   "display_name": "Python [Root]",
   "language": "python",
   "name": "Python [Root]"
  },
  "language_info": {
   "codemirror_mode": {
    "name": "ipython",
    "version": 2
   },
   "file_extension": ".py",
   "mimetype": "text/x-python",
   "name": "python",
   "nbconvert_exporter": "python",
   "pygments_lexer": "ipython2",
   "version": "2.7.14"
  }
 },
 "nbformat": 4,
 "nbformat_minor": 0
}
